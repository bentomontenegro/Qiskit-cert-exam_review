{
 "cells": [
  {
   "cell_type": "markdown",
   "id": "a3afeb3c",
   "metadata": {},
   "source": [
    "This notebook is part of a series intended to review the contents in the __IBM Certified Associate Developer - Quantum Computation using Qiskit v0.2X__ exam as indicated in the [exam's official webpage](https://www.ibm.com/training/certification/C0010300) (See §Exam objectives). It is not intended, however, to furnish a complete preparation, but a guided overview with basic explanations and examples. The reader is encouraged to consult other sources and work on codes and examples as much as possible in order to prepare suitably."
   ]
  },
  {
   "cell_type": "markdown",
   "id": "b4490bb5",
   "metadata": {},
   "source": [
    "# Section 4: Implementing QASM\n",
    "\n",
    "As discussed in §1.8, OpenQASM (Open Quantum Assembly Language) is a programming language specifically designed for working with the architecture of quantum computers. It is used within Qiskit as the intermediate representation of quantum circuits, i.e. as a bridge between the high-level interface of Qiskit and the low-level \"binary-structured\" interface of a quantum computer.\n",
    "\n",
    "In the same section we considered the following code snippet, whose purpose is to return the OpenQASM string for a given circuit."
   ]
  },
  {
   "cell_type": "code",
   "execution_count": 3,
   "id": "d7f5e3de",
   "metadata": {},
   "outputs": [
    {
     "name": "stdout",
     "output_type": "stream",
     "text": [
      "OPENQASM 2.0;\n",
      "include \"qelib1.inc\";\n",
      "qreg q[2];\n",
      "h q[0];\n",
      "cx q[0],q[1];\n",
      "\n"
     ]
    }
   ],
   "source": [
    "from qiskit import QuantumCircuit\n",
    "\n",
    "bell_qc = QuantumCircuit(2)\n",
    "\n",
    "bell_qc.h(0)\n",
    "bell_qc.cx(0, 1)\n",
    "\n",
    "qasm_str = bell_qc.qasm()\n",
    "\n",
    "print(qasm_str)"
   ]
  },
  {
   "cell_type": "markdown",
   "id": "b0b32fc7",
   "metadata": {},
   "source": [
    "However, given the OpenQASM code for a quantum circuit, we can also perform the reverse process and convert this code to a `QuantumCircuit` instance. There are two main ways to to that, which we now introduce.\n",
    "\n",
    "## 4.1 Reading a QASM file\n",
    "\n",
    "Let us first save the circuit in the last cell into a `.txt` in Python's standard way."
   ]
  },
  {
   "cell_type": "code",
   "execution_count": 4,
   "id": "3b9beb46",
   "metadata": {},
   "outputs": [],
   "source": [
    "bell_file = open(\"bell_qc.txt\", \"w+\") # Opening a file in writing mode\n",
    "\n",
    "bell_file.write(qasm_str) # Writing into file\n",
    "\n",
    "bell_file.close() # Closing file"
   ]
  },
  {
   "cell_type": "markdown",
   "id": "b4c0069a",
   "metadata": {},
   "source": [
    "The method `QuantumCircuit.from_qasm_file('FileName')` allows to read the OpenQASM string from a file. As an illustration, consider the following example, where (for simplicity) the file we want to read is already in the same repository as our Qiskit program (if this is not the case, you need to specify the complete reference for the file, including its repository, in place of `FileName`)."
   ]
  },
  {
   "cell_type": "code",
   "execution_count": 5,
   "id": "446a46dc",
   "metadata": {},
   "outputs": [
    {
     "data": {
      "image/png": "[encoded data removed]",
      "text/plain": [
       "<Figure size 287.294x200.667 with 1 Axes>"
      ]
     },
     "execution_count": 5,
     "metadata": {},
     "output_type": "execute_result"
    }
   ],
   "source": [
    "from qiskit import QuantumCircuit\n",
    "\n",
    "bell_qc = QuantumCircuit.from_qasm_file('bell_qc.txt')\n",
    "\n",
    "bell_qc.draw('mpl')"
   ]
  },
  {
   "cell_type": "markdown",
   "id": "51e53835",
   "metadata": {},
   "source": [
    "## 4.2 Reading a QASM string from a string\n",
    "\n",
    "If we already have the OpenQASM string of a quantum circuit implemented in our program, and thus don't need to read it from an external file, we can use the method `from_qasm_str(string)`."
   ]
  },
  {
   "cell_type": "code",
   "execution_count": 7,
   "id": "605cf1c8",
   "metadata": {},
   "outputs": [
    {
     "data": {
      "image/png": "[encoded data removed]",
      "text/plain": [
       "<Figure size 287.294x200.667 with 1 Axes>"
      ]
     },
     "execution_count": 7,
     "metadata": {},
     "output_type": "execute_result"
    }
   ],
   "source": [
    "from qiskit import QuantumCircuit\n",
    "\n",
    "bell_qc = QuantumCircuit.from_qasm_str(qasm_str)\n",
    "\n",
    "bell_qc.draw('mpl')"
   ]
  },
  {
   "cell_type": "markdown",
   "id": "11054be3",
   "metadata": {},
   "source": [
    "# References\n",
    "\n",
    "[1] *Weaver, J. (2022). Qiskit Pocket Guide: Quantum Development with Qiskit. O'Reilly Media; 1st edition.*"
   ]
  },
  {
   "cell_type": "code",
   "execution_count": null,
   "id": "1bc385e2",
   "metadata": {},
   "outputs": [],
   "source": []
  }
 ],
 "metadata": {
  "kernelspec": {
   "display_name": "Python 3 (ipykernel)",
   "language": "python",
   "name": "python3"
  },
  "language_info": {
   "codemirror_mode": {
    "name": "ipython",
    "version": 3
   },
   "file_extension": ".py",
   "mimetype": "text/x-python",
   "name": "python",
   "nbconvert_exporter": "python",
   "pygments_lexer": "ipython3",
   "version": "3.10.9"
  }
 },
 "nbformat": 4,
 "nbformat_minor": 5
}
