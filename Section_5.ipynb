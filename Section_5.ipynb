{
 "cells": [
  {
   "cell_type": "markdown",
   "id": "701495dd",
   "metadata": {},
   "source": [
    "This notebook is part of a series intended to review the contents in the __IBM Certified Associate Developer - Quantum Computation using Qiskit v0.2X__ exam as indicated in the [exam's official webpage](https://www.ibm.com/training/certification/C0010300) (See §Exam objectives). It is not intended, however, to furnish a complete preparation, but a guided overview with basic explanations and examples. The reader is encouraged to consult other sources and work on codes and examples as much as possible in order to prepare suitably."
   ]
  },
  {
   "cell_type": "markdown",
   "id": "cc334e66",
   "metadata": {},
   "source": [
    "# Section 5: Comparing and contrasting quantum information\n",
    "\n",
    "In this section we review some basic concepts of quantum information theory and introduce their implementations in Qiskit.\n",
    "\n",
    "## 5.1 Using classical and quantum registers\n",
    "\n",
    "### 5.1.1 Classical registers\n",
    "\n",
    "Usually in physics the term \"classical\" refers to theories that predate the discovery of quantum mechanics. Let us introduce the concept of a system in the context of classical information theory.\n",
    "\n",
    "__Def. 1__ *A system S is an abstraction of a physical device or a medium that can store information. We denote by $\\Sigma$* the set of all possible states of S.\n",
    "\n",
    "Let us assume from now on that $\\Sigma$ is always *discrete* and *nonempty*.\n",
    "\n",
    "The most important example of a classical system for us is perhaps a *classical bit*, where $\\Sigma = \\{0, 1\\}$. Their main purpose in quantum computing is to store the measurement results of quantum bits (see below), and we already know from §1.1 and §1.2 how to implement them in a quantum circuit."
   ]
  },
  {
   "cell_type": "code",
   "execution_count": 10,
   "id": "dcdb1b9e",
   "metadata": {},
   "outputs": [
    {
     "data": {
      "image/png": "[encoded data removed]",
      "text/plain": [
       "<Figure size 143.647x200.667 with 1 Axes>"
      ]
     },
     "execution_count": 10,
     "metadata": {},
     "output_type": "execute_result"
    }
   ],
   "source": [
    "from qiskit import ClassicalRegister, QuantumRegister, QuantumCircuit\n",
    "\n",
    "# Creating a quantum circuit of 1 quantum register and 3 classical registers\n",
    "\n",
    "qr = QuantumRegister(1, name = 'q')\n",
    "cr = ClassicalRegister(3, name = 'c')\n",
    "\n",
    "qc = QuantumCircuit(qr, cr)\n",
    "\n",
    "qc.draw('mpl')"
   ]
  },
  {
   "cell_type": "markdown",
   "id": "6bc727bd",
   "metadata": {},
   "source": [
    "Other classical systems are, for example, a six-sided die ($\\Sigma = \\{1, 2, 3, 4, 5, 6\\}$), a coin ($\\Sigma = \\{heads, tails\\}$), or even an electric fan switch $\\Sigma = \\{high, medium, low, off\\}$.\n",
    "\n",
    "For us, the most important property of a classical system is that its state is defined independently of whether we measure it or not. For example, we can say that we know that the state of a classical bit inside a box is either 0 or 1 even if we haven't opened the box yet.\n",
    "\n",
    "However, before knowing (or measuring) the state of classical system, all we can say is that there is a certain probability of a certain outcome to occur. For example, after flipping a honest coin, if we don't look at the final result all we can say beforehand is that there is a probability of $1/2$ of measuring \"$heads$\" and a probability of $1/2$ of measuring tails.\n",
    "\n",
    "A convenient tool is to assign orthonormal basis vectors to each classical state of a given system. For the coin of the last example we could assign, for example, $heads \\to |heads\\rangle$ and $tails \\to |tails\\rangle$ so that $\\langle  heads | heads \\rangle = \\langle tails | tails \\rangle = 1$ and $\\langle heads | tails \\rangle = 0$. We may say then that the state of the coin before a measurement is the *probabilistic state*\n",
    "\n",
    "\\begin{equation}\n",
    "    \\frac{1}{2} |heads\\rangle + \\frac{1}{2} |tails\\rangle \\equiv\n",
    "    \\begin{pmatrix}\n",
    "        1/2\\\\\n",
    "        1/2\n",
    "    \\end{pmatrix}\n",
    "\\end{equation}\n",
    "\n",
    "and represent a measurement by a *projection operation* on the state of the circuit.\n",
    "\n",
    "This was an example, but we can give a more general definition of a probabilistic state.\n",
    "\n",
    "__Def. 2__ "
   ]
  },
  {
   "cell_type": "code",
   "execution_count": null,
   "id": "ea25d83b",
   "metadata": {},
   "outputs": [],
   "source": []
  }
 ],
 "metadata": {
  "kernelspec": {
   "display_name": "Python 3 (ipykernel)",
   "language": "python",
   "name": "python3"
  },
  "language_info": {
   "codemirror_mode": {
    "name": "ipython",
    "version": 3
   },
   "file_extension": ".py",
   "mimetype": "text/x-python",
   "name": "python",
   "nbconvert_exporter": "python",
   "pygments_lexer": "ipython3",
   "version": "3.10.9"
  }
 },
 "nbformat": 4,
 "nbformat_minor": 5
}
