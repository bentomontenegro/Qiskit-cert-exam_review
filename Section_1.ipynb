{
 "cells": [
  {
   "cell_type": "markdown",
   "id": "4bda4916",
   "metadata": {},
   "source": [
    "This notebook is part of a series intended to review the contents in the __IBM Certified Associate Developer - Quantum Computation using Qiskit v0.2X__ exam as indicated in the [exam's official webpage](https://www.ibm.com/training/certification/C0010300) (See §Exam objectives). It is not intended, however, to furnish a complete preparation, but a guided overview with basic explanations and examples. The reader is encouraged to consult other sources and work on codes and examples as much as possible in order to prepare suitably."
   ]
  },
  {
   "cell_type": "markdown",
   "id": "8986889a",
   "metadata": {},
   "source": [
    "Before starting, let us review the concepts of class, instance and atribute in Python."
   ]
  },
  {
   "cell_type": "markdown",
   "id": "ed68f4a2",
   "metadata": {},
   "source": [
    "# Basic elements of Python - A brief overview\n",
    "\n",
    "Python is a high-level, general-purpose programming language known for its simplicity and readability. Since Qiskit works through Python language, it is convenient to make a brief overview of some of its basic elements: classes, instances, methods and attributes. (Actually, any so-called object-oriented language works with such concepts. Python is just a specific case.)\n",
    "\n",
    "We call a __class__ in Python a type of object we can work with and an __instance__ a specific representative of a class. For example, if `Car` is a class, `Jaguar`, `Ferrari`, `Camaro` are instances of `Car`.\n",
    "\n",
    "A __method__ is a function that is inherent to a class, and that have the ability to modify instances of that cass. For example, the method `start_engine()` may change the state of `Jaguar` to `\"Engine_started\"`. We note that methods may or may not receive arguments, as illustrated in the codes below."
   ]
  },
  {
   "cell_type": "code",
   "execution_count": null,
   "id": "78f6810a",
   "metadata": {},
   "outputs": [],
   "source": [
    "from qiskit import QuantumCircuit\n",
    "\n",
    "qc = QuantumCircuit(2)\n",
    "\n",
    "qc.h([0, 1])\n",
    "qc.cx(0, 1)"
   ]
  },
  {
   "cell_type": "markdown",
   "id": "332b8a20",
   "metadata": {},
   "source": [
    "Here `qc` is an instance of the `QuantumCircuit` class and `qc.h([0, 1])` and `qc.cx(0, 1)` are methods that change the circuit by applying a Hadamard gate to qubits 0 and 1 and a CX-gate with qubit 0 as control and qubit 1 as target (see §1.3 and §1.4).\n",
    "\n",
    "Now, an __attribute__ of an instance is some property of that instance. For example, `Jaguar.color` may return, say `black`, which is the color of `Jaguar` (which is an instance of the class `Car`)."
   ]
  },
  {
   "cell_type": "code",
   "execution_count": 38,
   "id": "fc808a72",
   "metadata": {},
   "outputs": [
    {
     "data": {
      "text/plain": [
       "0.9999999999999996"
      ]
     },
     "execution_count": 38,
     "metadata": {},
     "output_type": "execute_result"
    }
   ],
   "source": [
    "from qiskit.quantum_info import Statevector\n",
    "\n",
    "psi = Statevector(psi)\n",
    "\n",
    "norm_psi = psi.inner(psi)\n",
    "\n",
    "norm_psi.real"
   ]
  },
  {
   "cell_type": "markdown",
   "id": "1917b36d",
   "metadata": {},
   "source": [
    "Note that `psi` is an instance of the `Statevector` class and `psi.inner(psi)` is a method that calculates the inner product of `psi` with some supplied state vector (in this case `psi` itself). `real` is then an attribute of the variable `norm_psi` (or of the method `psi.inner()` if you wish) that returns the real part of this variable.\n",
    "\n",
    "To summarize, attributes represent the state or data associated with an object, while methods define the behavior or actions that the object can perform. Attributes store values, and methods perform operations on those values or interact with other methods or attributes."
   ]
  },
  {
   "cell_type": "markdown",
   "id": "a3e37893",
   "metadata": {},
   "source": [
    "# Section 1: Performing operations on quantum Circuits"
   ]
  },
  {
   "cell_type": "markdown",
   "id": "a97250eb",
   "metadata": {},
   "source": [
    "## 1. 1 Constructing multi-qubit quantum registers\n",
    "\n",
    "With instances of the `QuantumRegister` class we can create combined sets of qubits. We can then pass these instances as arguments to gate functions or instructions, for example, in order to apply the respective gate or instruction to all qubits of the set at once."
   ]
  },
  {
   "cell_type": "code",
   "execution_count": 39,
   "id": "a213abc4",
   "metadata": {},
   "outputs": [
    {
     "data": {
      "image/png": "[encoded data removed]",
      "text/plain": [
       "<Figure size 287.496x284.278 with 1 Axes>"
      ]
     },
     "execution_count": 39,
     "metadata": {},
     "output_type": "execute_result"
    }
   ],
   "source": [
    "from qiskit import QuantumRegister, QuantumCircuit\n",
    "\n",
    "qubits = QuantumRegister(3, 'q')\n",
    "\n",
    "qc = QuantumCircuit(qubits)\n",
    "\n",
    "qc.h(qubits)\n",
    "qc.cx(qubits[0], qubits[2]) # We can refer to qubits 0 or 2 of `qubits` simply by indexing `0` or `2`\n",
    "\n",
    "qc.draw('mpl')"
   ]
  },
  {
   "cell_type": "markdown",
   "id": "5cccc659",
   "metadata": {},
   "source": [
    "## 1. 2 Measuring quantum circuits in classical registers\n",
    "\n",
    "In analogy with the `QuantumRegister` class, we can create instances of the `ClassicalRegister` class to specify a set of classical bits that can store the outcomes of measurements performed on qubits."
   ]
  },
  {
   "cell_type": "code",
   "execution_count": 43,
   "id": "b6ced539",
   "metadata": {},
   "outputs": [
    {
     "data": {
      "image/png": "[encoded data removed]",
      "text/plain": [
       "<Figure size 371.107x367.889 with 1 Axes>"
      ]
     },
     "execution_count": 43,
     "metadata": {},
     "output_type": "execute_result"
    }
   ],
   "source": [
    "from qiskit import QuantumRegister, ClassicalRegister, QuantumCircuit\n",
    "\n",
    "qubits = QuantumRegister(3, 'q')\n",
    "cbits = ClassicalRegister(3, 'c')\n",
    "\n",
    "qc = QuantumCircuit(qubits, cbits)\n",
    "\n",
    "qc.h(qubits)\n",
    "qc.cx(qubits[0], qubits[2])\n",
    "\n",
    "qc.measure(qubits[0], cbits[1]) # Measuring qubit 0 and storing the result in classical bit 1\n",
    "\n",
    "qc.draw('mpl')"
   ]
  },
  {
   "cell_type": "markdown",
   "id": "1ee5054b",
   "metadata": {},
   "source": [
    "## 1.3 Using single-qubit gates\n",
    "\n",
    "We can operate on the qubits of a quantum circuit by using the `QuantumCircuit.gate()` methods (note that \"gate\" may vary here).\n",
    "\n",
    "[This tutorial](https://qiskit.org/documentation/tutorials/circuits/3_summary_of_quantum_operations.html) from Qiskit documentation presents the available single-qubit gates together with their respective syntaxes. We summarize them here with a brief explanation.\n",
    "\n",
    "Let `q = QuantumRegister(1)` and `qc = QuantumCircuit(q)`.\n",
    "\n",
    "1. __$U$ gate__ (Unitary gate): Applies a unitary operation specified by two angles and a phase\n",
    "\n",
    "`qc.u(theta, phi, lambda, q)`\n",
    "\n",
    "2. __$P$ gate__ (Phase gate): Adds a local phase factor to the state $| 1 \\rangle$ of the qubit. Equivalent to $U(0, 0, \\lambda)$.\n",
    "\n",
    "`qc.p(lambda, q)`\n",
    "\n",
    "3. __Identity gate__: Applies the 2x2 identity matrix. Equivalent to $P(0)$.\n",
    "\n",
    "`qc.id(q)`\n",
    "\n",
    "4. __Pauli gates__: Applies one of the Pauli matrices ($X$, $Y$ or $Z$)\n",
    "\n",
    "`qc.x(q)`, `qc.y(q)`, `qc.z(q)`\n",
    "\n",
    "5. __Clifford gates__:\n",
    "\n",
    "    5.1. __Hadamard gate__: Implements the mapping $| 0 \\rangle \\to | + \\rangle$ and $| 1 \\rangle \\to | - \\rangle$, which creates (and undoes!) equal superpositions.\n",
    "    \n",
    "    `qc.h(q)`\n",
    "    \n",
    "    5.2. __$S$ gate__: Square-root of the Z gate (i.e. $S^2 = Z$). Equivalent to a phase gate of $\\pi/2$.\n",
    "    \n",
    "    `qc.s(q)`\n",
    "    \n",
    "    5.3. __$S^\\dagger$ gate__: Hermitian conjugate of the $S$ gate. Equivalent to a phase gate of $-\\pi/2$\n",
    "    \n",
    "    `qc.sdg(q)`\n",
    "    \n",
    "6. __$C3$ gates__:\n",
    "\n",
    "    6.1. __$T$ gate__: Square-root of the $S$ gate. Equivalent to a phase gate of $\\pi/4$\n",
    "    \n",
    "    `qc.t(q)`\n",
    "    \n",
    "    6.2. __$T^\\dagger$ gate__: Hermitian conjugate of the $T$ gate. Equivalent to a phase gate of $-\\pi/4$\n",
    "    \n",
    "    `qc.tdg(q)`\n",
    "\n",
    "7. __Standard rotations__:\n",
    "\n",
    "    7.1. __$Rx$ gate__: Rotation around the x-axis of the Bloch sphere\n",
    "    \n",
    "    `qc.rx(theta, q)`\n",
    "    \n",
    "    7.2. __$Ry$ gate__: Rotation around the y-axis of the Bloch sphere\n",
    "    \n",
    "    `qc.ry(theta, q)`\n",
    "    \n",
    "    7.3. __$Rz$ gate__: Rotation around the z-axis of the Bloch sphere\n",
    "    \n",
    "    `qc.rz(phi)`"
   ]
  },
  {
   "cell_type": "markdown",
   "id": "7d517536",
   "metadata": {},
   "source": [
    "## 1.4 Using multi-qubit gates"
   ]
  },
  {
   "cell_type": "markdown",
   "id": "f8e0890a",
   "metadata": {},
   "source": [
    "### 1.4.1 Two-qubit gates\n",
    "\n",
    "Most of the two-qubit gates are controlled type. This means that they work in the following way. We first specify two qubits, one called *control* and the other called *target*. If the state of the control qubit is $|1\\rangle$, a certain unitary gate $U$ is applied to the target; otherwise, nothing happens. The SWAP gate is an exception.\n",
    "\n",
    "In summary the two-qubit gates are the following.\n",
    "\n",
    "Let `q = QuantumRegister(2)` and `qc = QuantumCircuit(q)`.\n",
    "\n",
    "1. __Controlled Pauli gates__:\n",
    "\n",
    "    1.1 __$C_X$ gate__: If the control is $|1\\rangle$, applies a $X$ gate to the target. \n",
    "    \n",
    "    `qc.cx(q[0], q[1])`\n",
    "    \n",
    "    1.2 __$C_Y$ gate__: If the control is $|1\\rangle$, applies a $Y$ gate to the target. \n",
    "    \n",
    "    `qc.cy(q[0], q[1])`\n",
    "    \n",
    "    1.3 __$C_Z$ gate__: If the control is $|1\\rangle$, applies a $Z$ gate to the target. \n",
    "    \n",
    "    `qc.cz(q[0], q[1])`\n",
    "\n",
    "2. __Controlled Hadamard gate__: If the state of the control is $|1\\rangle$, applies a Hadamard gate to the target. \n",
    "\n",
    "`qc.ch(q[0], q[1])`\n",
    "\n",
    "3. __Controlled rotation gates__:\n",
    "    3.1. __$C_{R_x}$ gate__: If the control is $|1\\rangle$, applies a $R_X$ gate to the target. \n",
    "    \n",
    "    `qc.crx(theta, q[0], q[1])`\n",
    "\n",
    "    3.2. __$C_{R_y}$ gate__: If the control is $|1\\rangle$, applies a $R_Y$ gate to the target. \n",
    "    \n",
    "    `qc.cry(theta, q[0], q[1])`\n",
    "    \n",
    "    3.3. __$C_{R_z}$ gate__: If the control is $|1\\rangle$, applies a $R_Z$ gate to the target. \n",
    "    \n",
    "    `qc.crz(phi, q[0], q[1])`\n",
    "    \n",
    "4. __Controlled phase rotation__: If both qubits are $|1\\rangle$, applies a P gate to the target.\n",
    "\n",
    "`qc.cp(lambda, q[0], q[1])`\n",
    "\n",
    "5. __Controlled $U$ rotation__: If the control is $|1\\rangle$, applies a U gate to the target.\n",
    "\n",
    "`qc.u(theta, phi, lambda, q[0], q[1])`\n",
    "\n",
    "6. __SWAP gate__: Exchanges the state of the two qubits. For the basis vectors we have $|00\\rangle \\to |00\\rangle$, $|10\\rangle \\to |01\\rangle$, etc.\n",
    "\n",
    "`qc.swap(q[0], q[1])`"
   ]
  },
  {
   "cell_type": "markdown",
   "id": "98b4151c",
   "metadata": {},
   "source": [
    "### 1.4.2 Three-qubit gates\n",
    "\n",
    "Let `q = QuantumRegister(3)` and `qc = QuantumCircuit(q)`.\n",
    "\n",
    "1. __Toffoli gate ($ccx$ gate)__: Flips the third qubit if the state of the first two qubits is $|1\\rangle$.\n",
    "\n",
    "`qc.ccx(q[0], q[1], q[2])`\n",
    "\n",
    "2. __Controlled swap gate (Fredkin Gate)__: If the first qubit is $|1\\rangle$, exchanges the second and the third qubits.\n",
    "\n",
    "`qc.cswap(q[0], q[1], q[2])`"
   ]
  },
  {
   "cell_type": "markdown",
   "id": "23670036",
   "metadata": {},
   "source": [
    "## 1.5 Using barrier operations"
   ]
  },
  {
   "cell_type": "markdown",
   "id": "bb9d3494",
   "metadata": {},
   "source": [
    "With the `QuantumCircuit.barrier()` method we can place a *barrier* between gates of a circuit to provide both visual and functional separation. If no argument is passed, a barrier is placed between all quantum wires as indicated below."
   ]
  },
  {
   "cell_type": "code",
   "execution_count": 12,
   "id": "33f5726d",
   "metadata": {},
   "outputs": [
    {
     "data": {
      "image/png": "[encoded data removed]",
      "text/plain": [
       "<Figure size 454.719x284.278 with 1 Axes>"
      ]
     },
     "execution_count": 12,
     "metadata": {},
     "output_type": "execute_result"
    }
   ],
   "source": [
    "from qiskit import QuantumCircuit\n",
    "\n",
    "qc = QuantumCircuit(3)\n",
    "\n",
    "qc.h([0, 2])\n",
    "\n",
    "qc.barrier()\n",
    "\n",
    "qc.cx(1,2)\n",
    "qc.z(1)\n",
    "\n",
    "qc.draw('mpl')"
   ]
  },
  {
   "cell_type": "markdown",
   "id": "6aec15a3",
   "metadata": {},
   "source": [
    "To place a barrier only between certain wires we pass them as arguments."
   ]
  },
  {
   "cell_type": "code",
   "execution_count": 13,
   "id": "f0d2314a",
   "metadata": {},
   "outputs": [
    {
     "data": {
      "image/png": "[encoded data removed]",
      "text/plain": [
       "<Figure size 538.33x284.278 with 1 Axes>"
      ]
     },
     "execution_count": 13,
     "metadata": {},
     "output_type": "execute_result"
    }
   ],
   "source": [
    "from qiskit import QuantumCircuit\n",
    "\n",
    "qc = QuantumCircuit(3)\n",
    "\n",
    "qc.h([0, 2])\n",
    "\n",
    "qc.barrier([1, 2])\n",
    "\n",
    "qc.cx(1,2)\n",
    "\n",
    "qc.barrier([1])\n",
    "\n",
    "qc.z(1)\n",
    "\n",
    "qc.draw('mpl')"
   ]
  },
  {
   "cell_type": "markdown",
   "id": "9d1ac49e",
   "metadata": {},
   "source": [
    "__NOTE.__ The gates expressed in Qiskit are an abstraction to the actual gates implemented by a quantum computer or a simulator. Qiskit *transpiles* these gates, so that they can be understood by the desired platform, combining them where possible to optimize the circuit. However, if two gates are separated by a barrier the transpilation process never combines them into a single gate."
   ]
  },
  {
   "cell_type": "markdown",
   "id": "e2931203",
   "metadata": {},
   "source": [
    "## 1.6 Returning the circuit depth\n",
    "\n",
    "The *depth* of a quantum circuit is the minimum number of operations in the circuits (including measurements but not barriers). Note that if two gates are applied on independent qubits, they count as one operation only. (Hence, in general, *the depth is not the number of gates in the circuit*.)"
   ]
  },
  {
   "cell_type": "code",
   "execution_count": 5,
   "id": "0e3edc2b",
   "metadata": {},
   "outputs": [
    {
     "name": "stdout",
     "output_type": "stream",
     "text": [
      "3\n"
     ]
    }
   ],
   "source": [
    "from qiskit import QuantumCircuit\n",
    "\n",
    "qc = QuantumCircuit(2,1)\n",
    "\n",
    "qc.h(0)\n",
    "qc.barrier()\n",
    "qc.cy(0, 1)\n",
    "qc.measure(0, 0)\n",
    "\n",
    "print(qc.depth())"
   ]
  },
  {
   "cell_type": "markdown",
   "id": "69b310ac",
   "metadata": {},
   "source": [
    "## 1.7 Extending quantum circuits"
   ]
  },
  {
   "cell_type": "markdown",
   "id": "14b24040",
   "metadata": {},
   "source": [
    "We can combine two circuits into one single circuit by using the `QuantumCircuit.compose()` method. As arguments we provide the circuit that wish to combine with our original circuit and the qubits where this second circuit will be placed."
   ]
  },
  {
   "cell_type": "code",
   "execution_count": 6,
   "id": "b1ef626e",
   "metadata": {},
   "outputs": [
    {
     "data": {
      "image/png": "[encoded data removed]",
      "text/plain": [
       "<Figure size 538.33x284.278 with 1 Axes>"
      ]
     },
     "execution_count": 6,
     "metadata": {},
     "output_type": "execute_result"
    }
   ],
   "source": [
    "from qiskit import QuantumCircuit\n",
    "\n",
    "qc_1 = QuantumCircuit(3)\n",
    "qc_1.h(0)\n",
    "qc_1.cx(0, 1)\n",
    "qc_1.h(2)\n",
    "qc_1.barrier()\n",
    "\n",
    "qc_2 = QuantumCircuit(2)\n",
    "qc_2.h([0, 1])\n",
    "qc_2.z(1)\n",
    "\n",
    "qc = qc_1.compose(qc_2, [1, 2])\n",
    "\n",
    "qc.draw('mpl')"
   ]
  },
  {
   "cell_type": "markdown",
   "id": "32f5df86",
   "metadata": {},
   "source": [
    "### 1. 8 Return the OpenQASM string for a circuit\n",
    "\n",
    "In computer science, an __assembly language__ is a low-level programming language that provides a human-readable representation of machine (binary) instructions. It is designed to be easily understood by humans while still being closely related to the underlying hardware architecture of a given computer system.\n",
    "\n",
    "OpenQASM (Open Quantum Assembly Language) is a programming language specifically designed for working with the architecture of quantum computers. It is used within Qiskit as the intermediate representation of quantum circuits, i.e. as a bridge between the high-level interface of Qiskit and the low-level \"binary-structured\" interface of a quantum computer.\n",
    "\n",
    "OpenQASM is Hardware-agostic, which means that it is readable by any quantum computer, independent of its hardware-details.\n",
    "\n",
    "The `QuantumCircuit.qasm()` method returns an OpenQASM program that represents a given quantum circuit."
   ]
  },
  {
   "cell_type": "code",
   "execution_count": 3,
   "id": "68233337",
   "metadata": {},
   "outputs": [
    {
     "name": "stdout",
     "output_type": "stream",
     "text": [
      "OPENQASM 2.0;\n",
      "include \"qelib1.inc\";\n",
      "qreg q[2];\n",
      "h q[0];\n",
      "cx q[0],q[1];\n",
      "\n"
     ]
    }
   ],
   "source": [
    "from qiskit import QuantumCircuit\n",
    "\n",
    "bell_qc = QuantumCircuit(2)\n",
    "\n",
    "bell_qc.h(0)\n",
    "bell_qc.cx(0, 1)\n",
    "\n",
    "qasm_str = bell_qc.qasm()\n",
    "\n",
    "print(qasm_str)"
   ]
  },
  {
   "cell_type": "markdown",
   "id": "0fa30034",
   "metadata": {},
   "source": [
    "# References\n",
    "\n",
    "[1] *Weaver, J. (2022). Qiskit Pocket Guide: Quantum Development with Qiskit. O'Reilly Media; 1st edition.*\n",
    "\n",
    "[2] [Qiskit documentation](https://qiskit.org/documentation/)"
   ]
  },
  {
   "cell_type": "code",
   "execution_count": null,
   "id": "2e836f4d",
   "metadata": {},
   "outputs": [],
   "source": []
  }
 ],
 "metadata": {
  "kernelspec": {
   "display_name": "Python 3 (ipykernel)",
   "language": "python",
   "name": "python3"
  },
  "language_info": {
   "codemirror_mode": {
    "name": "ipython",
    "version": 3
   },
   "file_extension": ".py",
   "mimetype": "text/x-python",
   "name": "python",
   "nbconvert_exporter": "python",
   "pygments_lexer": "ipython3",
   "version": "3.10.9"
  }
 },
 "nbformat": 4,
 "nbformat_minor": 5
}
