{
 "cells": [
  {
   "cell_type": "markdown",
   "id": "504749a0",
   "metadata": {},
   "source": [
    "This notebook is the 9th part of a series intended to review the contents covered in the exam [IBM Certified Associate Developer - Quantum Computation using Qiskit v0.2X](https://www.ibm.com/training/certification/C0010300). Its topics are organized in the same order indicated in the section \"Exam Objectives\". of the exam's official webpage.\n",
    "\n",
    "It is not intended, however, to furnish a tough preparationm, just a guided overview with some examples. The reader is encouraged to consult several other sources and work codes on him/herself in order to prepare suitably.\n",
    "\n",
    "# Section 9:  Constructing visualizations\n",
    "\n",
    "## 9.1 Drawing a circuit\n",
    "\n",
    "With the method `QuantumCircuit.draw()` one can easily make a picture of a quantum circuit. If no string argument is passed, the circuit is drawn by default in \"text\" form. See below."
   ]
  },
  {
   "cell_type": "code",
   "execution_count": 6,
   "id": "e7bfe464",
   "metadata": {},
   "outputs": [
    {
     "data": {
      "text/html": [
       "<pre style=\"word-wrap: normal;white-space: pre;background: #fff0;line-height: 1.1;font-family: &quot;Courier New&quot;,Courier,monospace\">     ┌───┐        \n",
       "q_0: ┤ H ├──■─────\n",
       "     └───┘┌─┴─┐┌─┐\n",
       "q_1: ─────┤ X ├┤M├\n",
       "          └───┘└╥┘\n",
       "c: 1/═══════════╩═\n",
       "                0 </pre>"
      ],
      "text/plain": [
       "     ┌───┐        \n",
       "q_0: ┤ H ├──■─────\n",
       "     └───┘┌─┴─┐┌─┐\n",
       "q_1: ─────┤ X ├┤M├\n",
       "          └───┘└╥┘\n",
       "c: 1/═══════════╩═\n",
       "                0 "
      ]
     },
     "execution_count": 6,
     "metadata": {},
     "output_type": "execute_result"
    }
   ],
   "source": [
    "from qiskit import QuantumCircuit\n",
    "\n",
    "qc = QuantumCircuit(2, 1)\n",
    "\n",
    "qc.h(0)\n",
    "qc.cx(0, 1)\n",
    "\n",
    "qc.measure(1, 0)\n",
    "\n",
    "qc.draw()"
   ]
  },
  {
   "cell_type": "markdown",
   "id": "ced7662a",
   "metadata": {},
   "source": [
    "However, we can make a \"more beautiful\" picture of the circuit using `matplotlib` by passing `'mpl'` as argument."
   ]
  },
  {
   "cell_type": "code",
   "execution_count": 7,
   "id": "a1772389",
   "metadata": {},
   "outputs": [
    {
     "data": {
      "image/png": "[encoded data removed]",
      "text/plain": [
       "<Figure size 370.906x284.278 with 1 Axes>"
      ]
     },
     "execution_count": 7,
     "metadata": {},
     "output_type": "execute_result"
    }
   ],
   "source": [
    "qc.draw('mpl')"
   ]
  },
  {
   "cell_type": "markdown",
   "id": "91e7955e",
   "metadata": {},
   "source": [
    "## 9.2 Plotting a histogram of data\n",
    "\n",
    "We already know that Qiskit allows the simulation of real experiments using simulator and real-device backends (See §2)."
   ]
  },
  {
   "cell_type": "code",
   "execution_count": null,
   "id": "e302b70d",
   "metadata": {},
   "outputs": [],
   "source": []
  }
 ],
 "metadata": {
  "kernelspec": {
   "display_name": "Python 3 (ipykernel)",
   "language": "python",
   "name": "python3"
  },
  "language_info": {
   "codemirror_mode": {
    "name": "ipython",
    "version": 3
   },
   "file_extension": ".py",
   "mimetype": "text/x-python",
   "name": "python",
   "nbconvert_exporter": "python",
   "pygments_lexer": "ipython3",
   "version": "3.10.9"
  }
 },
 "nbformat": 4,
 "nbformat_minor": 5
}
